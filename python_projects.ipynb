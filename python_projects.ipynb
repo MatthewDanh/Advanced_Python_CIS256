{
  "nbformat": 4,
  "nbformat_minor": 0,
  "metadata": {
    "colab": {
      "private_outputs": true,
      "provenance": [],
      "toc_visible": true,
      "authorship_tag": "ABX9TyO4sUV9wgdDTmVnW+Gw/NVd",
      "include_colab_link": true
    },
    "kernelspec": {
      "name": "python3",
      "display_name": "Python 3"
    },
    "language_info": {
      "name": "python"
    }
  },
  "cells": [
    {
      "cell_type": "markdown",
      "metadata": {
        "id": "view-in-github",
        "colab_type": "text"
      },
      "source": [
        "<a href=\"https://colab.research.google.com/github/MatthewDanh/CIS256/blob/main/python_projects.ipynb\" target=\"_parent\"><img src=\"https://colab.research.google.com/assets/colab-badge.svg\" alt=\"Open In Colab\"/></a>"
      ]
    },
    {
      "cell_type": "markdown",
      "source": [
        "# Community Service and Engagement: Python Programming Projects\n",
        "## Introduction\n",
        "This collection of Python projects is designed to enhance community service and engagement through technology. Each project focuses on a unique aspect of community assistance, utilizing various Python programming skills and principles."
      ],
      "metadata": {
        "id": "lDy-3HlKc3oC"
      }
    },
    {
      "cell_type": "markdown",
      "source": [
        "\n",
        "## Project 1: Advanced Data Structures for Community Services"
      ],
      "metadata": {
        "id": "jCiMwU0wkFBm"
      }
    },
    {
      "cell_type": "markdown",
      "source": [
        "### Overview:\n",
        "Develop a Python application that utilizes advanced data structures to assist a community service organization in managing its services, such as scheduling and resource allocation.\n",
        "### Objectives:\n",
        "- Implement advanced data structures (e.g., graphs, trees).\n",
        "- Apply these structures to real-world scenarios like route planning and scheduling.\n",
        "### Tools and Libraries:\n",
        "- Python\n",
        "- Additional libraries as needed"
      ],
      "metadata": {
        "id": "Fmh0qadedjFY"
      }
    },
    {
      "cell_type": "markdown",
      "source": [
        "To develop a Python application for a community service organization that involves scheduling and resource allocation, you can use advanced data structures like graphs and trees. Below, I outline a high-level approach and provide sample code snippets to get you started.\n",
        "\n",
        "### 1. Setting up the Environment\n",
        "\n",
        "Make sure you have Python installed on your machine. You can use additional libraries like `networkx` for graph-related operations and `pandas` for handling datasets:\n",
        "\n",
        "#### Installing the schedule Library\n",
        "First, you need to install the schedule library if you haven't already. You can install it using pip:\n"
      ],
      "metadata": {
        "id": "ESZG_PiogGvE"
      }
    },
    {
      "cell_type": "code",
      "source": [
        "# Install necessary libraries\n",
        "!pip install networkx pandas\n",
        "!pip install schedule\n",
        "\n"
      ],
      "metadata": {
        "id": "kqOnGJGteb60"
      },
      "execution_count": null,
      "outputs": []
    },
    {
      "cell_type": "markdown",
      "source": [
        "\n",
        "\n",
        "### 2. Implementing Advanced Data Structures\n",
        "\n",
        "**Graphs for Route Planning:**\n",
        "Graphs can be used for route planning and optimization. You can represent the locations as nodes and the paths between them as edges.\n"
      ],
      "metadata": {
        "id": "Co8Qd_CugU3_"
      }
    },
    {
      "cell_type": "code",
      "source": [
        "import networkx as nx\n",
        "\n",
        "# Create a graph\n",
        "G = nx.Graph()"
      ],
      "metadata": {
        "id": "1QHz05-_ggsh"
      },
      "execution_count": null,
      "outputs": []
    },
    {
      "cell_type": "markdown",
      "source": [
        "### 3. Applying Structures to Real-world Scenarios\n",
        "\n",
        "**Route Planning:**\n",
        "Use the graph structure for optimizing routes between different service locations or for delivery of resources.\n",
        "\n",
        "**Scheduling:**\n",
        "Trees can be used for managing schedules. For instance, each node in the tree could represent a time slot or a particular service, helping in efficient allocation and scheduling.\n",
        "\n"
      ],
      "metadata": {
        "id": "xTkW4xgYhJMJ"
      }
    },
    {
      "cell_type": "code",
      "source": [
        "# Add nodes and edges\n",
        "# For example, adding a route between A and B with a distance of 10\n",
        "G.add_edge('A', 'B', weight=10)\n",
        "\n",
        "# Add more routes as needed\n",
        "# G.add_edge('B', 'C', weight=20)\n",
        "\n",
        "# Find shortest path for route planning\n",
        "shortest_path = nx.shortest_path(G, source='A', target='B', weight='weight')\n",
        "print(\"Shortest path from A to B:\", shortest_path)\n"
      ],
      "metadata": {
        "id": "Jv6GyKHdglDh"
      },
      "execution_count": null,
      "outputs": []
    },
    {
      "cell_type": "markdown",
      "source": [
        "### 4. Tools and Libraries\n",
        "\n",
        "While the standard Python library is sufficient for basic data structures, `networkx` is excellent for more complex graph operations. For handling and analyzing data, `pandas` can be very useful. For scheduling, you might consider libraries like `schedule` for time-based operations.\n",
        "\n",
        "**Trees for Resource Allocation:**\n",
        "Trees are useful for hierarchical resource allocation, categorizing services, or managing schedules.\n"
      ],
      "metadata": {
        "id": "xphiWLWXhfXc"
      }
    },
    {
      "cell_type": "code",
      "source": [
        "class TreeNode:\n",
        "    def __init__(self, name, resources):\n",
        "        self.name = name\n",
        "        self.resources = resources\n",
        "        self.children = []\n",
        "\n",
        "    def add_child(self, child):\n",
        "        self.children.append(child)\n",
        "\n",
        "# Create a tree structure for your resources or services\n",
        "root = TreeNode('Community Center', {'Chairs': 100, 'Tables': 50})\n",
        "\n",
        "# Add branches or leaves representing different services or resources\n",
        "child1 = TreeNode('Education Services', {'Books': 300, 'Computers': 20})\n",
        "root.add_child(child1)"
      ],
      "metadata": {
        "id": "-yGmEowKgvXo"
      },
      "execution_count": null,
      "outputs": []
    },
    {
      "cell_type": "markdown",
      "source": [
        "### 5. Example Application\n",
        "\n",
        "Imagine you're creating an application for scheduling volunteers for different tasks:"
      ],
      "metadata": {
        "id": "7yACwgDwhiFR"
      }
    },
    {
      "source": [
        "import schedule\n",
        "import time\n",
        "\n",
        "def task():\n",
        "    print(\"Assigning volunteers...\")\n",
        "\n",
        "# Schedule the 'task' to run every day at 9:00 am\n",
        "schedule.every().day.at(\"09:00\").do(task)\n",
        "\n",
        "while True:\n",
        "    schedule.run_pending()\n",
        "    time.sleep(1)\n"
      ],
      "cell_type": "code",
      "metadata": {
        "id": "C52vfgpBhx-k"
      },
      "execution_count": null,
      "outputs": []
    },
    {
      "cell_type": "markdown",
      "source": [
        "\n",
        "## Project 2: Community Bank Application\n",
        "\n",
        "### Overview:\n",
        "Create an object-oriented bank application for community savings programs or microfinance initiatives.\n",
        "\n",
        "### Objectives:\n",
        "\n",
        "* Design and develop using object-oriented principles.\n",
        "* Manage different types of accounts and transactions.\n",
        "\n",
        "### Tools and Libraries:\n",
        "- Python\n",
        "- Object-oriented programming concepts\n"
      ],
      "metadata": {
        "id": "g1pzMpNUdqn0"
      }
    },
    {
      "cell_type": "code",
      "source": [],
      "metadata": {
        "id": "RHoF1qLoee6v"
      },
      "execution_count": null,
      "outputs": []
    },
    {
      "cell_type": "markdown",
      "source": [
        "## Project 3: Community Project Documentation Hub\n",
        "\n",
        "### Overview:\n",
        "Construct a documentation system for community projects, ensuring code is maintainable and adheres to PEP 8 standards.\n",
        "\n",
        "### Objectives:\n",
        "- Integrate documentation standards.\n",
        "- Follow current Python Enhancement Proposal (PEP) standard style guidelines.\n",
        "\n",
        "### Tools and Libraries:\n",
        "- Python\n",
        "- Sphinx or other documentation tools"
      ],
      "metadata": {
        "id": "dRotznBJdwY4"
      }
    },
    {
      "cell_type": "code",
      "source": [],
      "metadata": {
        "id": "Zce8gtuNegL2"
      },
      "execution_count": null,
      "outputs": []
    },
    {
      "cell_type": "markdown",
      "source": [
        "## Project 4: Package for Community Data Analysis\n",
        "\n",
        "### Overview:\n",
        "Build a Python package for analyzing and visualizing community data like census or economic indicators.\n",
        "\n",
        "### Objectives:\n",
        "- Build a well-structured Python package.\n",
        "- Utilize data analysis libraries to interpret community data.\n",
        "\n",
        "### Tools and Libraries:\n",
        "- Python\n",
        "- Pandas, NumPy, Matplotlib"
      ],
      "metadata": {
        "id": "vodoFFfSeZnP"
      }
    },
    {
      "cell_type": "code",
      "source": [],
      "metadata": {
        "id": "v2RzEDX6elGF"
      },
      "execution_count": null,
      "outputs": []
    },
    {
      "cell_type": "markdown",
      "source": [
        "## Project 5: Unit Testing for Community Apps\n",
        "\n",
        "### Overview:\n",
        "Develop a suite of unit tests for community-related projects to ensure reliability and security.\n",
        "\n",
        "### Objectives:\n",
        "- Apply unit testing frameworks.\n",
        "- Ensure code reliability and security.\n",
        "\n",
        "### Tools and Libraries:\n",
        "- Python\n",
        "- unittest, pytest"
      ],
      "metadata": {
        "id": "XqZ0-UdFelfN"
      }
    },
    {
      "cell_type": "code",
      "source": [],
      "metadata": {
        "id": "hwvWaA6zequB"
      },
      "execution_count": null,
      "outputs": []
    },
    {
      "cell_type": "markdown",
      "source": [
        "## Project 6: Security Review for Community Portal\n",
        "\n",
        "### Overview:\n",
        "Perform a security review for a community portal, focusing on input validation and code security best practices.\n",
        "\n",
        "### Objectives:\n",
        "- Assess and improve security measures.\n",
        "- Apply best practices for secure coding.\n",
        "\n",
        "### Tools and Libraries:\n",
        "- Python\n",
        "- Various security libraries and tools"
      ],
      "metadata": {
        "id": "NRAV6I-dera_"
      }
    },
    {
      "cell_type": "code",
      "source": [],
      "metadata": {
        "id": "IYrCOkXievuO"
      },
      "execution_count": null,
      "outputs": []
    },
    {
      "cell_type": "markdown",
      "source": [
        "## Project 7: Community Collaboration Using Git\n",
        "\n",
        "### Overview:\n",
        "Demonstrate the use of Git in community projects, highlighting collaboration and version control.\n",
        "\n",
        "### Objectives:\n",
        "- Utilize Git for version control.\n",
        "- Demonstrate collaborative project management.\n",
        "\n",
        "### Tools and Libraries:\n",
        "- Git\n",
        "- GitHub or other online repositories"
      ],
      "metadata": {
        "id": "DGK6l8vOewFr"
      }
    },
    {
      "cell_type": "code",
      "source": [],
      "metadata": {
        "id": "dOFt1Mbyez2O"
      },
      "execution_count": null,
      "outputs": []
    },
    {
      "cell_type": "markdown",
      "source": [
        "## Project 8: Web Application for Community Engagement\n",
        "\n",
        "### Overview:\n",
        "Use a Python framework to create a web application for local community engagement, like event listings or resource sharing.\n",
        "\n",
        "### Objectives:\n",
        "- Develop a web application using a Python framework (e.g., Flask).\n",
        "- Implement features beneficial to community engagement.\n",
        "\n",
        "### Tools and Libraries:\n",
        "- Flask or Django\n",
        "- HTML, CSS, JavaScript (for web interface)"
      ],
      "metadata": {
        "id": "CCw072Ede0SV"
      }
    },
    {
      "cell_type": "code",
      "source": [],
      "metadata": {
        "id": "oITEExS2e4bW"
      },
      "execution_count": null,
      "outputs": []
    },
    {
      "cell_type": "markdown",
      "source": [
        "## Project 9: Data Analysis for Community Development\n",
        "\n",
        "### Overview:\n",
        "Utilize Python libraries for analyzing and visualizing data relevant to community development.\n",
        "\n",
        "### Objectives:\n",
        "- Analyze community data for insights.\n",
        "- Visualize data to inform community decision-making.\n",
        "\n",
        "### Tools and Libraries:\n",
        "- Python\n",
        "- Pandas, Matplotlib, Seaborn"
      ],
      "metadata": {
        "id": "rEXq4OVbe44P"
      }
    },
    {
      "cell_type": "code",
      "source": [],
      "metadata": {
        "id": "311kPGoGe95l"
      },
      "execution_count": null,
      "outputs": []
    },
    {
      "cell_type": "markdown",
      "source": [
        "## Project 10: Network Services for Community Communication\n",
        "\n",
        "### Overview:\n",
        "Develop scripts or applications to improve community communication, utilizing Python's network capabilities.\n",
        "\n",
        "### Objectives:\n",
        "- Manipulate network services and protocols for community benefit.\n",
        "- Automate community notifications and communications.\n",
        "\n",
        "### Tools and Libraries:\n",
        "- Python\n",
        "- Network programming libraries"
      ],
      "metadata": {
        "id": "aAR_kMJre-Q2"
      }
    },
    {
      "cell_type": "code",
      "source": [],
      "metadata": {
        "id": "yZ2bT3uBfBfI"
      },
      "execution_count": null,
      "outputs": []
    },
    {
      "cell_type": "markdown",
      "source": [
        "# Conclusion\n",
        "\n",
        "This series of projects is designed to not only build your programming skills but also to make a positive impact on the community through technology. As you work through these projects, keep in mind the broader goal of enhancing community service and engagement.\n",
        "\n",
        "You can insert the appropriate Python code snippets under each project's code section as you develop your projects. This structure will not only guide you through the development process but also ensure that each project aligns with the specified objectives and technologies."
      ],
      "metadata": {
        "id": "R0Pf9iuyfB5d"
      }
    }
  ]
}