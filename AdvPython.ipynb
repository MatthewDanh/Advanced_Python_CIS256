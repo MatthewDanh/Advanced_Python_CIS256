{
  "nbformat": 4,
  "nbformat_minor": 0,
  "metadata": {
    "colab": {
      "provenance": [],
      "cell_execution_strategy": "setup",
      "toc_visible": true,
      "authorship_tag": "ABX9TyN6jJ9yFJ137b/Y+HDtbgd7",
      "include_colab_link": true
    },
    "kernelspec": {
      "name": "python3",
      "display_name": "Python 3"
    },
    "language_info": {
      "name": "python"
    }
  },
  "cells": [
    {
      "cell_type": "markdown",
      "metadata": {
        "id": "view-in-github",
        "colab_type": "text"
      },
      "source": [
        "<a href=\"https://colab.research.google.com/github/MatthewDanh/CIS256/blob/main/AdvPython.ipynb\" target=\"_parent\"><img src=\"https://colab.research.google.com/assets/colab-badge.svg\" alt=\"Open In Colab\"/></a>"
      ]
    },
    {
      "cell_type": "markdown",
      "source": [
        "\n",
        "\n",
        "```\n",
        "# This is formatted as code\n",
        "```\n",
        "\n",
        "# Paycheck Calculator"
      ],
      "metadata": {
        "id": "f8t9aewCJFRr"
      }
    },
    {
      "cell_type": "code",
      "source": [],
      "metadata": {
        "id": "odiLb-cvJRkk"
      },
      "execution_count": null,
      "outputs": []
    },
    {
      "cell_type": "markdown",
      "source": [],
      "metadata": {
        "id": "59oTDONOJdb9"
      }
    },
    {
      "cell_type": "markdown",
      "source": [
        "# Rolodex of Friends"
      ],
      "metadata": {
        "id": "rtYij4wBgWHQ"
      }
    },
    {
      "cell_type": "code",
      "source": [
        "# Ask user how many friends to input and store as a variable.\n",
        "\n",
        "num_friends = int(input('How many friends would you like to add to your list?'))\n"
      ],
      "metadata": {
        "id": "oVSBeqQPX8lS",
        "colab": {
          "base_uri": "https://localhost:8080/"
        },
        "outputId": "5b070c49-5e71-4f83-95c7-fed40bfdce45"
      },
      "execution_count": null,
      "outputs": [
        {
          "name": "stdout",
          "output_type": "stream",
          "text": [
            "How many friends would you like to add to your list?3\n"
          ]
        }
      ]
    },
    {
      "cell_type": "code",
      "source": [
        "# loop to ask each name and store it in a python list.\n",
        "\n",
        "friends = []\n",
        "for i in range(num_friends):\n",
        "  person = input('Enter the name of a friend: ')\n",
        "  friends.append(person)\n",
        "\n"
      ],
      "metadata": {
        "id": "5Ut9WdH2X6LL",
        "colab": {
          "base_uri": "https://localhost:8080/"
        },
        "outputId": "d689e924-b88d-4190-9284-61459515a807"
      },
      "execution_count": null,
      "outputs": [
        {
          "name": "stdout",
          "output_type": "stream",
          "text": [
            "Enter the name of a friend: joe\n",
            "Enter the name of a friend: sally\n",
            "Enter the name of a friend: bob\n"
          ]
        }
      ]
    },
    {
      "cell_type": "code",
      "source": [
        "# Print the best friend (first name on list)\n",
        "\n",
        "print(friends[0])\n"
      ],
      "metadata": {
        "id": "G0RA2x8zX7FO",
        "colab": {
          "base_uri": "https://localhost:8080/"
        },
        "outputId": "87c89939-a513-4105-dbb7-3eeb00d43bcf"
      },
      "execution_count": null,
      "outputs": [
        {
          "output_type": "stream",
          "name": "stdout",
          "text": [
            "joe\n"
          ]
        }
      ]
    },
    {
      "cell_type": "code",
      "source": [
        "# Print the least-friend (last name on list).\n",
        "\n",
        "print(friends[-1])\n"
      ],
      "metadata": {
        "id": "YnV11g2YX76E",
        "colab": {
          "base_uri": "https://localhost:8080/"
        },
        "outputId": "020e0dff-d382-49e9-cc0e-3ffc9adb101f"
      },
      "execution_count": null,
      "outputs": [
        {
          "output_type": "stream",
          "name": "stdout",
          "text": [
            "bob\n"
          ]
        }
      ]
    },
    {
      "cell_type": "code",
      "source": [
        "print(friends)\n"
      ],
      "metadata": {
        "colab": {
          "base_uri": "https://localhost:8080/"
        },
        "id": "xFVgdzMwd4iD",
        "outputId": "db935304-effa-4437-f4f0-b76d8d3de996"
      },
      "execution_count": null,
      "outputs": [
        {
          "output_type": "stream",
          "name": "stdout",
          "text": [
            "['joe', 'sally', 'bob']\n"
          ]
        }
      ]
    },
    {
      "cell_type": "code",
      "source": [
        "for i in range(10, 15, 1):\n",
        "  print( i, start=', ')"
      ],
      "metadata": {
        "colab": {
          "base_uri": "https://localhost:8080/",
          "height": 194
        },
        "id": "t--X6Bu6zKbJ",
        "outputId": "de7414dd-68b3-4125-d3fd-013dfc680a69"
      },
      "execution_count": null,
      "outputs": [
        {
          "output_type": "error",
          "ename": "TypeError",
          "evalue": "'start' is an invalid keyword argument for print()",
          "traceback": [
            "\u001b[0;31m---------------------------------------------------------------------------\u001b[0m",
            "\u001b[0;31mTypeError\u001b[0m                                 Traceback (most recent call last)",
            "\u001b[0;32m<ipython-input-11-2e1c271f4853>\u001b[0m in \u001b[0;36m<cell line: 1>\u001b[0;34m()\u001b[0m\n\u001b[1;32m      1\u001b[0m \u001b[0;32mfor\u001b[0m \u001b[0mi\u001b[0m \u001b[0;32min\u001b[0m \u001b[0mrange\u001b[0m\u001b[0;34m(\u001b[0m\u001b[0;36m10\u001b[0m\u001b[0;34m,\u001b[0m \u001b[0;36m15\u001b[0m\u001b[0;34m,\u001b[0m \u001b[0;36m1\u001b[0m\u001b[0;34m)\u001b[0m\u001b[0;34m:\u001b[0m\u001b[0;34m\u001b[0m\u001b[0;34m\u001b[0m\u001b[0m\n\u001b[0;32m----> 2\u001b[0;31m   \u001b[0mprint\u001b[0m\u001b[0;34m(\u001b[0m \u001b[0mi\u001b[0m\u001b[0;34m,\u001b[0m \u001b[0mstart\u001b[0m\u001b[0;34m=\u001b[0m\u001b[0;34m', '\u001b[0m\u001b[0;34m)\u001b[0m\u001b[0;34m\u001b[0m\u001b[0;34m\u001b[0m\u001b[0m\n\u001b[0m",
            "\u001b[0;31mTypeError\u001b[0m: 'start' is an invalid keyword argument for print()"
          ]
        }
      ]
    },
    {
      "cell_type": "markdown",
      "source": [
        "[link text](https://)\n",
        "\n",
        "# Program Module 03\n",
        "\n",
        "\n",
        "\n"
      ],
      "metadata": {
        "id": "qkDAqlhH4GB5"
      }
    },
    {
      "cell_type": "code",
      "source": [
        "from collections import deque  #  importing deque because it's perfect for efficiently adding or removing cards.\n",
        "\n",
        "deck = []  # Let's start by creating an empty list for our deck of cards.\n",
        "\n",
        "#   open the 'cards.txt' file to read the cards. It's important to handle text properly, hence the encoding.\n",
        "with open('/path/to/cards.txt', 'r', encoding='utf-8') as file:\n",
        "    for line in file:  # Reading the file line by line...\n",
        "        deck.append(line.strip())  #  strip whitespace and add each card to the deck.\n",
        "\n",
        "hand = deque()  #  using a deque for the hand because it's efficient for both ends.\n",
        "\n",
        "#  to deal 5 cards to the player's hand from the deck.\n",
        "for _ in range(5):\n",
        "    hand.append(deck.pop())  #  pop the last card from the deck into the hand.\n",
        "\n",
        "print(\"Player's hand:\", list(hand))  # Let's show the player what they've got.\n",
        "\n",
        "# I need to let the player decide how many cards to discard.\n",
        "while True:\n",
        "    discard_num = input(\"Enter the number of cards you want to discard (0-5): \")  # Asking the player...\n",
        "    if discard_num.isdigit() and 0 <= int(discard_num) <= 5:  # Checking the input is a digit and within range...\n",
        "        discard_num = int(discard_num)  #  Let's use this number.\n",
        "        break  # Exiting the loop since we have a valid number.\n",
        "    else:\n",
        "        print(\"Invalid number. Please enter a number between 0 and 5.\")  # Oops, let's try that again.\n",
        "\n",
        "print(\"Discarded cards:\")  #  about to show which cards are being discarded.\n",
        "for _ in range(discard_num):\n",
        "    print(hand.popleft())  #  removing and showing each discarded card.\n",
        "\n",
        "print(\"New cards:\")  #  Replenish the hand with new cards.\n",
        "for _ in range(discard_num):\n",
        "    new_card = deck.pop()  #  take the last card from the deck...\n",
        "    hand.append(new_card)  # ...And add it to the hand.\n",
        "    print(new_card)  # Let's see what I got.\n",
        "\n",
        "# Finally, read them and weep BOIS.\n",
        "print(\"Final deck:\", deck)  # What's left.\n",
        "print(\"Final hand:\", list(hand))  # I watched the 30 rock episode with Alec Baldwin getting taken in poker like 3 times coding this.\n"
      ],
      "metadata": {
        "id": "KSVULodh4XJX",
        "outputId": "936ec484-a003-4d55-defc-8c328accfd4d",
        "colab": {
          "base_uri": "https://localhost:8080/",
          "height": 246
        }
      },
      "execution_count": null,
      "outputs": [
        {
          "output_type": "error",
          "ename": "FileNotFoundError",
          "evalue": "[Errno 2] No such file or directory: '/path/to/cards.txt'",
          "traceback": [
            "\u001b[0;31m---------------------------------------------------------------------------\u001b[0m",
            "\u001b[0;31mFileNotFoundError\u001b[0m                         Traceback (most recent call last)",
            "\u001b[0;32m<ipython-input-1-79f10f6a4d6f>\u001b[0m in \u001b[0;36m<cell line: 6>\u001b[0;34m()\u001b[0m\n\u001b[1;32m      4\u001b[0m \u001b[0;34m\u001b[0m\u001b[0m\n\u001b[1;32m      5\u001b[0m \u001b[0;31m#   open the 'cards.txt' file to read the cards. It's important to handle text properly, hence the encoding.\u001b[0m\u001b[0;34m\u001b[0m\u001b[0;34m\u001b[0m\u001b[0m\n\u001b[0;32m----> 6\u001b[0;31m \u001b[0;32mwith\u001b[0m \u001b[0mopen\u001b[0m\u001b[0;34m(\u001b[0m\u001b[0;34m'/path/to/cards.txt'\u001b[0m\u001b[0;34m,\u001b[0m \u001b[0;34m'r'\u001b[0m\u001b[0;34m,\u001b[0m \u001b[0mencoding\u001b[0m\u001b[0;34m=\u001b[0m\u001b[0;34m'utf-8'\u001b[0m\u001b[0;34m)\u001b[0m \u001b[0;32mas\u001b[0m \u001b[0mfile\u001b[0m\u001b[0;34m:\u001b[0m\u001b[0;34m\u001b[0m\u001b[0;34m\u001b[0m\u001b[0m\n\u001b[0m\u001b[1;32m      7\u001b[0m     \u001b[0;32mfor\u001b[0m \u001b[0mline\u001b[0m \u001b[0;32min\u001b[0m \u001b[0mfile\u001b[0m\u001b[0;34m:\u001b[0m  \u001b[0;31m# Reading the file line by line...\u001b[0m\u001b[0;34m\u001b[0m\u001b[0;34m\u001b[0m\u001b[0m\n\u001b[1;32m      8\u001b[0m         \u001b[0mdeck\u001b[0m\u001b[0;34m.\u001b[0m\u001b[0mappend\u001b[0m\u001b[0;34m(\u001b[0m\u001b[0mline\u001b[0m\u001b[0;34m.\u001b[0m\u001b[0mstrip\u001b[0m\u001b[0;34m(\u001b[0m\u001b[0;34m)\u001b[0m\u001b[0;34m)\u001b[0m  \u001b[0;31m#  strip whitespace and add each card to the deck.\u001b[0m\u001b[0;34m\u001b[0m\u001b[0;34m\u001b[0m\u001b[0m\n",
            "\u001b[0;31mFileNotFoundError\u001b[0m: [Errno 2] No such file or directory: '/path/to/cards.txt'"
          ]
        }
      ]
    },
    {
      "cell_type": "markdown",
      "source": [
        "# Python Object Oriented Programming (OOP)"
      ],
      "metadata": {
        "id": "nE38KcerUmt7"
      }
    },
    {
      "cell_type": "markdown",
      "source": [
        "## Inheritance\n",
        "\n"
      ],
      "metadata": {
        "id": "SkEeOe1WUvMN"
      }
    },
    {
      "cell_type": "code",
      "source": [
        "class BankAccount:\n",
        "    def get_account_num(self):\n",
        "    def get_owner_name(self):\n",
        "    def get_balance(self):\n",
        "    def set_owner_name(self, new_name):\n",
        "    def deposit(self, amount):\n",
        "    def withraw(self, amount):\n",
        "\n",
        "class CheckingAccount(BankAccount):\n",
        "    def __init__(self, account_num, owner)"
      ],
      "metadata": {
        "id": "W67tFW3gU2r_"
      },
      "execution_count": null,
      "outputs": []
    }
  ]
}